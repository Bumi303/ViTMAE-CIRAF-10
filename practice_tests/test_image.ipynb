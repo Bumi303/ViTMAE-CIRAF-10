{
 "cells": [
  {
   "cell_type": "code",
   "execution_count": 4,
   "metadata": {},
   "outputs": [
    {
     "ename": "ValueError",
     "evalue": "too many values to unpack (expected 2)",
     "output_type": "error",
     "traceback": [
      "\u001b[0;31m---------------------------------------------------------------------------\u001b[0m",
      "\u001b[0;31mValueError\u001b[0m                                Traceback (most recent call last)",
      "Cell \u001b[0;32mIn[4], line 54\u001b[0m\n\u001b[1;32m     52\u001b[0m \u001b[38;5;66;03m# Get the first batch of data\u001b[39;00m\n\u001b[1;32m     53\u001b[0m data_iter \u001b[38;5;241m=\u001b[39m \u001b[38;5;28miter\u001b[39m(data_loader)\n\u001b[0;32m---> 54\u001b[0m images, labels \u001b[38;5;241m=\u001b[39m \u001b[38;5;28mnext\u001b[39m(data_iter)\n\u001b[1;32m     56\u001b[0m \u001b[38;5;66;03m# Function to show an image\u001b[39;00m\n\u001b[1;32m     57\u001b[0m \u001b[38;5;28;01mdef\u001b[39;00m \u001b[38;5;21mimshow\u001b[39m(img):\n",
      "\u001b[0;31mValueError\u001b[0m: too many values to unpack (expected 2)"
     ]
    }
   ],
   "source": [
    "import torch\n",
    "import torchvision\n",
    "import torchvision.transforms as transforms\n",
    "import matplotlib.pyplot as plt\n",
    "import numpy as np\n",
    "import os\n",
    "import pickle\n",
    "import torch\n",
    "\n",
    "\n",
    "np.random.seed(0)\n",
    "torch.manual_seed(0)\n",
    "\n",
    "def load_cifar10_batch(file):\n",
    "    with open(file, 'rb') as fo:\n",
    "        dict = pickle.load(fo, encoding='bytes')\n",
    "    return dict[b'data'], dict[b'labels']\n",
    "\n",
    "def load_cifar10_data(data_dir):\n",
    "    # Initialize the arrays\n",
    "    x_train = np.empty((0, 3072))\n",
    "    y_train = []\n",
    "\n",
    "    # Load each batch file\n",
    "    for i in range(1, 6):\n",
    "        filename = os.path.join(data_dir, f'data_batch_{i}')\n",
    "        data, labels = load_cifar10_batch(filename)\n",
    "        x_train = np.vstack((x_train, data))\n",
    "        y_train += labels\n",
    "\n",
    "    # Load the test batch\n",
    "    x_test, y_test = load_cifar10_batch(os.path.join(data_dir, 'test_batch'))\n",
    "\n",
    "    # Reshape the data\n",
    "    x_train = x_train.reshape((50000, 3, 32, 32)).transpose(0, 2, 3, 1)\n",
    "    x_test = x_test.reshape((10000, 3, 32, 32)).transpose(0, 2, 3, 1)\n",
    "\n",
    "    return (x_train, np.array(y_train)), (x_test, np.array(y_test))\n",
    "\n",
    "# Define the transformation to normalize the data\n",
    "transform = transforms.Compose([transforms.ToTensor(), transforms.Normalize((0.5, 0.5, 0.5), (0.5, 0.5, 0.5))])\n",
    "\n",
    "# Load CIFAR-10 dataset\n",
    "cifar10_dataset = '/Users/haydenhenderson/Downloads/cifar-10-batches-py.tar.gz'\n",
    "\n",
    "# Create a data loader\n",
    "data_loader = torch.utils.data.DataLoader(cifar10_dataset, batch_size=4, shuffle=True, num_workers=2)\n",
    "\n",
    "# Define the class labels for CIFAR-10\n",
    "classes = ('plane', 'car', 'bird', 'cat', 'deer', 'dog', 'frog', 'horse', 'ship', 'truck')\n",
    "\n",
    "# Get the first batch of data\n",
    "data_iter = iter(data_loader)\n",
    "images, labels = next(data_iter)\n",
    "\n",
    "# Function to show an image\n",
    "def imshow(img):\n",
    "    img = img / 2 + 0.5  # Unnormalize the image (remove normalization)\n",
    "    npimg = img.numpy()\n",
    "    plt.imshow(np.transpose(npimg, (1, 2, 0)))\n",
    "    plt.show()\n",
    "\n",
    "# Show the first image from the batch\n",
    "imshow(images[0])\n",
    "print('Label:', classes[labels[0]])\n"
   ]
  }
 ],
 "metadata": {
  "kernelspec": {
   "display_name": "Python 3",
   "language": "python",
   "name": "python3"
  },
  "language_info": {
   "codemirror_mode": {
    "name": "ipython",
    "version": 3
   },
   "file_extension": ".py",
   "mimetype": "text/x-python",
   "name": "python",
   "nbconvert_exporter": "python",
   "pygments_lexer": "ipython3",
   "version": "3.10.4"
  }
 },
 "nbformat": 4,
 "nbformat_minor": 2
}
